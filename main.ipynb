{
 "cells": [
  {
   "cell_type": "code",
   "execution_count": 23,
   "metadata": {},
   "outputs": [],
   "source": [
    "import pandas as pd\n",
    "import random"
   ]
  },
  {
   "cell_type": "markdown",
   "metadata": {},
   "source": [
    "# READING DATAFRAME\n"
   ]
  },
  {
   "cell_type": "code",
   "execution_count": 27,
   "metadata": {},
   "outputs": [
    {
     "name": "stdout",
     "output_type": "stream",
     "text": [
      "Index(['work_year', 'experience_level', 'employment_type', 'job_title',\n",
      "       'salary', 'salary_currency', 'salary_in_usd', 'employee_residence',\n",
      "       'remote_ratio', 'company_location', 'company_size'],\n",
      "      dtype='object')\n"
     ]
    }
   ],
   "source": [
    "df = pd.read_csv(\"ds_salaries.csv\")\n",
    "print(df.columns)"
   ]
  },
  {
   "cell_type": "code",
   "execution_count": 28,
   "metadata": {},
   "outputs": [],
   "source": [
    "import pandas as pd\n",
    "import numpy as np\n",
    "\n",
    "# Assuming you have a DataFrame named df with 'experience_level' column\n",
    "\n",
    "# Define a function to generate ages based on experience level\n",
    "\n",
    "\n",
    "def generate_age(experience_level):\n",
    "    if experience_level == \"SE\":\n",
    "        # Normal distribution, most between 35 and 45\n",
    "        return int(np.random.normal(loc=40, scale=5))\n",
    "    elif experience_level == \"EX\":\n",
    "        # Most between 47.5 and 57.5\n",
    "        return int(np.random.normal(loc=52.5, scale=5))\n",
    "    elif experience_level == \"MI\":\n",
    "        return int(np.random.normal(loc=30, scale=5))  # Most between 25 and 35\n",
    "    elif experience_level == \"EN\":\n",
    "        # Most between 18 and 25\n",
    "        return int(np.random.normal(loc=21.5, scale=2.5))\n",
    "    else:\n",
    "        return None\n",
    "\n",
    "\n",
    "# Apply the function to create the 'age' column\n",
    "df['age'] = df['experience_level'].apply(generate_age)"
   ]
  },
  {
   "cell_type": "code",
   "execution_count": 30,
   "metadata": {},
   "outputs": [],
   "source": [
    "import pandas as pd\n",
    "import numpy as np\n",
    "\n",
    "# Assuming you have a DataFrame named df with 'salary_in_usd' column\n",
    "\n",
    "# Define a function to generate gender based on salary\n",
    "\n",
    "\n",
    "def generate_gender(salary):\n",
    "    # Adjust mean and standard deviation as needed\n",
    "    male_mean, male_std = 80000, 15000\n",
    "    female_mean, female_std = 60000, 15000\n",
    "\n",
    "    # Generate salary based on gender\n",
    "    if np.random.rand() < 0.5:  # 50% chance for each gender\n",
    "        return \"Male\" if salary > np.random.normal(male_mean, male_std) else \"Female\"\n",
    "    else:\n",
    "        return \"Female\" if salary < np.random.normal(female_mean, female_std) else \"Male\"\n",
    "\n",
    "\n",
    "# Apply the function to create the 'gender' column\n",
    "df['gender'] = df['salary_in_usd'].apply(generate_gender)"
   ]
  },
  {
   "cell_type": "markdown",
   "metadata": {},
   "source": [
    "# DATA CLEANING\n"
   ]
  },
  {
   "cell_type": "code",
   "execution_count": 31,
   "metadata": {},
   "outputs": [
    {
     "data": {
      "text/plain": [
       "experience_level\n",
       "SE    2516\n",
       "MI     805\n",
       "EN     320\n",
       "EX     114\n",
       "Name: count, dtype: int64"
      ]
     },
     "execution_count": 31,
     "metadata": {},
     "output_type": "execute_result"
    }
   ],
   "source": [
    "df.experience_level.value_counts()"
   ]
  },
  {
   "cell_type": "code",
   "execution_count": 32,
   "metadata": {},
   "outputs": [
    {
     "data": {
      "text/plain": [
       "work_year             0\n",
       "experience_level      0\n",
       "employment_type       0\n",
       "job_title             0\n",
       "salary                0\n",
       "salary_currency       0\n",
       "salary_in_usd         0\n",
       "employee_residence    0\n",
       "remote_ratio          0\n",
       "company_location      0\n",
       "company_size          0\n",
       "age                   0\n",
       "gender                0\n",
       "dtype: int64"
      ]
     },
     "execution_count": 32,
     "metadata": {},
     "output_type": "execute_result"
    }
   ],
   "source": [
    "df.isnull().sum()"
   ]
  },
  {
   "cell_type": "code",
   "execution_count": 33,
   "metadata": {},
   "outputs": [
    {
     "name": "stdout",
     "output_type": "stream",
     "text": [
      "there are work_year             0\n",
      "experience_level      0\n",
      "employment_type       0\n",
      "job_title             0\n",
      "salary                0\n",
      "salary_currency       0\n",
      "salary_in_usd         0\n",
      "employee_residence    0\n",
      "remote_ratio          0\n",
      "company_location      0\n",
      "company_size          0\n",
      "age                   0\n",
      "gender                0\n",
      "dtype: int64 missing values\n",
      "there are 144 duplicated values\n"
     ]
    }
   ],
   "source": [
    "print('there are', df.isnull().sum(), 'missing values')\n",
    "print('there are', df.duplicated().sum(), 'duplicated values')"
   ]
  },
  {
   "cell_type": "code",
   "execution_count": 11,
   "metadata": {},
   "outputs": [],
   "source": [
    "df_final = df.drop_duplicates()"
   ]
  },
  {
   "cell_type": "code",
   "execution_count": 12,
   "metadata": {},
   "outputs": [
    {
     "name": "stdout",
     "output_type": "stream",
     "text": [
      "there are work_year             0\n",
      "experience_level      0\n",
      "employment_type       0\n",
      "job_title             0\n",
      "salary                0\n",
      "salary_currency       0\n",
      "salary_in_usd         0\n",
      "employee_residence    0\n",
      "remote_ratio          0\n",
      "company_location      0\n",
      "company_size          0\n",
      "gender                0\n",
      "age                   0\n",
      "dtype: int64 missing values\n",
      "there are 0 duplicated values\n"
     ]
    }
   ],
   "source": [
    "print('there are', df_final.isnull().sum(), 'missing values')\n",
    "print('there are', df_final.duplicated().sum(), 'duplicated values')"
   ]
  },
  {
   "cell_type": "markdown",
   "metadata": {},
   "source": [
    "# Plots\n"
   ]
  },
  {
   "cell_type": "markdown",
   "metadata": {},
   "source": []
  },
  {
   "cell_type": "code",
   "execution_count": 34,
   "metadata": {},
   "outputs": [
    {
     "data": {
      "text/html": [
       "<div>\n",
       "<style scoped>\n",
       "    .dataframe tbody tr th:only-of-type {\n",
       "        vertical-align: middle;\n",
       "    }\n",
       "\n",
       "    .dataframe tbody tr th {\n",
       "        vertical-align: top;\n",
       "    }\n",
       "\n",
       "    .dataframe thead th {\n",
       "        text-align: right;\n",
       "    }\n",
       "</style>\n",
       "<table border=\"1\" class=\"dataframe\">\n",
       "  <thead>\n",
       "    <tr style=\"text-align: right;\">\n",
       "      <th></th>\n",
       "      <th>work_year</th>\n",
       "      <th>salary</th>\n",
       "      <th>salary_in_usd</th>\n",
       "      <th>remote_ratio</th>\n",
       "      <th>age</th>\n",
       "    </tr>\n",
       "  </thead>\n",
       "  <tbody>\n",
       "    <tr>\n",
       "      <th>count</th>\n",
       "      <td>3515.000000</td>\n",
       "      <td>3.515000e+03</td>\n",
       "      <td>3515.000000</td>\n",
       "      <td>3515.000000</td>\n",
       "      <td>3515.000000</td>\n",
       "    </tr>\n",
       "    <tr>\n",
       "      <th>mean</th>\n",
       "      <td>2022.364438</td>\n",
       "      <td>1.938273e+05</td>\n",
       "      <td>137066.176956</td>\n",
       "      <td>47.211949</td>\n",
       "      <td>36.525178</td>\n",
       "    </tr>\n",
       "    <tr>\n",
       "      <th>std</th>\n",
       "      <td>0.701278</td>\n",
       "      <td>6.940113e+05</td>\n",
       "      <td>63940.360649</td>\n",
       "      <td>48.564121</td>\n",
       "      <td>7.386487</td>\n",
       "    </tr>\n",
       "    <tr>\n",
       "      <th>min</th>\n",
       "      <td>2020.000000</td>\n",
       "      <td>6.000000e+03</td>\n",
       "      <td>5132.000000</td>\n",
       "      <td>0.000000</td>\n",
       "      <td>18.000000</td>\n",
       "    </tr>\n",
       "    <tr>\n",
       "      <th>25%</th>\n",
       "      <td>2022.000000</td>\n",
       "      <td>9.900000e+04</td>\n",
       "      <td>93075.000000</td>\n",
       "      <td>0.000000</td>\n",
       "      <td>33.000000</td>\n",
       "    </tr>\n",
       "    <tr>\n",
       "      <th>50%</th>\n",
       "      <td>2022.000000</td>\n",
       "      <td>1.360000e+05</td>\n",
       "      <td>134000.000000</td>\n",
       "      <td>0.000000</td>\n",
       "      <td>38.000000</td>\n",
       "    </tr>\n",
       "    <tr>\n",
       "      <th>75%</th>\n",
       "      <td>2023.000000</td>\n",
       "      <td>1.800000e+05</td>\n",
       "      <td>175000.000000</td>\n",
       "      <td>100.000000</td>\n",
       "      <td>42.000000</td>\n",
       "    </tr>\n",
       "    <tr>\n",
       "      <th>max</th>\n",
       "      <td>2023.000000</td>\n",
       "      <td>3.040000e+07</td>\n",
       "      <td>450000.000000</td>\n",
       "      <td>100.000000</td>\n",
       "      <td>60.000000</td>\n",
       "    </tr>\n",
       "  </tbody>\n",
       "</table>\n",
       "</div>"
      ],
      "text/plain": [
       "         work_year        salary  salary_in_usd  remote_ratio          age\n",
       "count  3515.000000  3.515000e+03    3515.000000   3515.000000  3515.000000\n",
       "mean   2022.364438  1.938273e+05  137066.176956     47.211949    36.525178\n",
       "std       0.701278  6.940113e+05   63940.360649     48.564121     7.386487\n",
       "min    2020.000000  6.000000e+03    5132.000000      0.000000    18.000000\n",
       "25%    2022.000000  9.900000e+04   93075.000000      0.000000    33.000000\n",
       "50%    2022.000000  1.360000e+05  134000.000000      0.000000    38.000000\n",
       "75%    2023.000000  1.800000e+05  175000.000000    100.000000    42.000000\n",
       "max    2023.000000  3.040000e+07  450000.000000    100.000000    60.000000"
      ]
     },
     "execution_count": 34,
     "metadata": {},
     "output_type": "execute_result"
    }
   ],
   "source": [
    "df_final.describe()"
   ]
  },
  {
   "cell_type": "code",
   "execution_count": null,
   "metadata": {},
   "outputs": [],
   "source": []
  }
 ],
 "metadata": {
  "kernelspec": {
   "display_name": "data_visualisation",
   "language": "python",
   "name": "python3"
  },
  "language_info": {
   "codemirror_mode": {
    "name": "ipython",
    "version": 3
   },
   "file_extension": ".py",
   "mimetype": "text/x-python",
   "name": "python",
   "nbconvert_exporter": "python",
   "pygments_lexer": "ipython3",
   "version": "3.11.7"
  }
 },
 "nbformat": 4,
 "nbformat_minor": 2
}
