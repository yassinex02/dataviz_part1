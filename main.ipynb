{
 "cells": [
  {
   "cell_type": "code",
   "execution_count": 7,
   "metadata": {},
   "outputs": [],
   "source": [
    "import pandas as pd\n",
    "import random"
   ]
  },
  {
   "cell_type": "markdown",
   "metadata": {},
   "source": [
    "# READING DATAFRAME\n"
   ]
  },
  {
   "cell_type": "code",
   "execution_count": 8,
   "metadata": {},
   "outputs": [
    {
     "name": "stdout",
     "output_type": "stream",
     "text": [
      "      work_year experience_level employment_type                 job_title  \\\n",
      "0          2023               SE              FT  Principal Data Scientist   \n",
      "1          2023               MI              CT               ML Engineer   \n",
      "2          2023               MI              CT               ML Engineer   \n",
      "3          2023               SE              FT            Data Scientist   \n",
      "4          2023               SE              FT            Data Scientist   \n",
      "...         ...              ...             ...                       ...   \n",
      "3750       2020               SE              FT            Data Scientist   \n",
      "3751       2021               MI              FT  Principal Data Scientist   \n",
      "3752       2020               EN              FT            Data Scientist   \n",
      "3753       2020               EN              CT     Business Data Analyst   \n",
      "3754       2021               SE              FT      Data Science Manager   \n",
      "\n",
      "       salary salary_currency  salary_in_usd employee_residence  remote_ratio  \\\n",
      "0       80000             EUR          85847                 ES           100   \n",
      "1       30000             USD          30000                 US           100   \n",
      "2       25500             USD          25500                 US           100   \n",
      "3      175000             USD         175000                 CA           100   \n",
      "4      120000             USD         120000                 CA           100   \n",
      "...       ...             ...            ...                ...           ...   \n",
      "3750   412000             USD         412000                 US           100   \n",
      "3751   151000             USD         151000                 US           100   \n",
      "3752   105000             USD         105000                 US           100   \n",
      "3753   100000             USD         100000                 US           100   \n",
      "3754  7000000             INR          94665                 IN            50   \n",
      "\n",
      "     company_location company_size  \n",
      "0                  ES            L  \n",
      "1                  US            S  \n",
      "2                  US            S  \n",
      "3                  CA            M  \n",
      "4                  CA            M  \n",
      "...               ...          ...  \n",
      "3750               US            L  \n",
      "3751               US            L  \n",
      "3752               US            S  \n",
      "3753               US            L  \n",
      "3754               IN            L  \n",
      "\n",
      "[3755 rows x 11 columns]\n"
     ]
    }
   ],
   "source": [
    "df = pd.read_csv(\"ds_salaries.csv\")\n",
    "print(df)"
   ]
  },
  {
   "cell_type": "code",
   "execution_count": 19,
   "metadata": {},
   "outputs": [],
   "source": [
    "def determine_gender(salary):\n",
    "    if salary > 70000:  # Placeholder value, adjust as per your data\n",
    "        return \"Male\"\n",
    "    else:\n",
    "        return \"Female\"\n",
    "\n",
    "\n",
    "# Define a function to determine age group based on experience_level\n",
    "def determine_age(experience_level):\n",
    "    if experience_level == \"SE\":\n",
    "        return random.randint(35, 45)  # Random age between 35 and 50 for SE\n",
    "    elif experience_level == \"EX\":\n",
    "        return random.randint(45, 60)\n",
    "    elif experience_level == \"MI\":\n",
    "        return random.randint(25, 35)  # Random age between 25 and 35 for MI\n",
    "    elif experience_level == \"EN\":\n",
    "        return random.randint(18, 25)  # Random age between 18 and 25 for EN\n",
    "    else:\n",
    "        return None  \n",
    "\n",
    "\n",
    "df['gender'] = df['salary_in_usd'].apply(determine_gender)\n",
    "df['age'] = df['experience_level'].apply(determine_age)"
   ]
  },
  {
   "cell_type": "code",
   "execution_count": 20,
   "metadata": {},
   "outputs": [
    {
     "name": "stdout",
     "output_type": "stream",
     "text": [
      "0       60.0\n",
      "1       33.0\n",
      "2       33.0\n",
      "3       72.0\n",
      "4       61.0\n",
      "        ... \n",
      "3750    53.0\n",
      "3751    26.0\n",
      "3752    18.0\n",
      "3753    20.0\n",
      "3754    59.0\n",
      "Name: age, Length: 3755, dtype: float64\n"
     ]
    }
   ],
   "source": [
    "print(df.age)"
   ]
  },
  {
   "cell_type": "markdown",
   "metadata": {},
   "source": [
    "# DATA CLEANING\n"
   ]
  },
  {
   "cell_type": "code",
   "execution_count": 23,
   "metadata": {},
   "outputs": [
    {
     "data": {
      "text/plain": [
       "experience_level\n",
       "SE    2516\n",
       "MI     805\n",
       "EN     320\n",
       "EX     114\n",
       "Name: count, dtype: int64"
      ]
     },
     "execution_count": 23,
     "metadata": {},
     "output_type": "execute_result"
    }
   ],
   "source": [
    "df.experience_level.value_counts()"
   ]
  },
  {
   "cell_type": "code",
   "execution_count": 21,
   "metadata": {},
   "outputs": [
    {
     "data": {
      "text/plain": [
       "work_year               0\n",
       "experience_level        0\n",
       "employment_type         0\n",
       "job_title               0\n",
       "salary                  0\n",
       "salary_currency         0\n",
       "salary_in_usd           0\n",
       "employee_residence      0\n",
       "remote_ratio            0\n",
       "company_location        0\n",
       "company_size            0\n",
       "gender                  0\n",
       "age                   114\n",
       "dtype: int64"
      ]
     },
     "execution_count": 21,
     "metadata": {},
     "output_type": "execute_result"
    }
   ],
   "source": [
    "df.isnull().sum()"
   ]
  },
  {
   "cell_type": "code",
   "execution_count": 17,
   "metadata": {},
   "outputs": [
    {
     "name": "stdout",
     "output_type": "stream",
     "text": [
      "there are work_year               0\n",
      "experience_level        0\n",
      "employment_type         0\n",
      "job_title               0\n",
      "salary                  0\n",
      "salary_currency         0\n",
      "salary_in_usd           0\n",
      "employee_residence      0\n",
      "remote_ratio            0\n",
      "company_location        0\n",
      "company_size            0\n",
      "gender                  0\n",
      "age                   114\n",
      "dtype: int64 missing values\n",
      "there are 197 duplicated values\n"
     ]
    }
   ],
   "source": [
    "print('there are',df.isnull().sum(),'missing values')\n",
    "print('there are',df.duplicated().sum(),'duplicated values')"
   ]
  },
  {
   "cell_type": "code",
   "execution_count": 16,
   "metadata": {},
   "outputs": [],
   "source": [
    "df_final = df.drop_duplicates()\n"
   ]
  }
 ],
 "metadata": {
  "kernelspec": {
   "display_name": "data_visualisation",
   "language": "python",
   "name": "python3"
  },
  "language_info": {
   "codemirror_mode": {
    "name": "ipython",
    "version": 3
   },
   "file_extension": ".py",
   "mimetype": "text/x-python",
   "name": "python",
   "nbconvert_exporter": "python",
   "pygments_lexer": "ipython3",
   "version": "3.11.7"
  }
 },
 "nbformat": 4,
 "nbformat_minor": 2
}
